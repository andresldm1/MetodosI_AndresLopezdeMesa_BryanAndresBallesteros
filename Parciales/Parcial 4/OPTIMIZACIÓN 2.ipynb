{
 "cells": [
  {
   "cell_type": "code",
   "execution_count": 1,
   "id": "71bf9df2",
   "metadata": {},
   "outputs": [],
   "source": [
    "import numpy as np\n",
    "import matplotlib.pyplot as plt\n",
    "\n",
    "import sympy as sym\n",
    "from scipy.stats import chi2\n",
    "import scipy.optimize as spo"
   ]
  },
  {
   "cell_type": "code",
   "execution_count": 7,
   "id": "575d3118",
   "metadata": {},
   "outputs": [
    {
     "name": "stdout",
     "output_type": "stream",
     "text": [
      "El mínimo de la función es:  0.2\n"
     ]
    }
   ],
   "source": [
    "def Function(v):\n",
    "    x,y,z = v\n",
    "    return x**2 + y**2 + z**2 - 2*z + 1\n",
    "\n",
    "def Function_g(v1):\n",
    "    x, y, z = v1\n",
    "    return 2*x - 4*y + 5*z -2\n",
    "\n",
    "p = [1., 1., 1.]\n",
    "cons = {'type': 'eq', 'fun': Function_g}\n",
    "\n",
    "resultado = spo.minimize(Function, p, constraints=cons)\n",
    "print('El mínimo de la función es: ', np.round(result['fun'],3))"
   ]
  },
  {
   "cell_type": "code",
   "execution_count": null,
   "id": "dd518cb9",
   "metadata": {},
   "outputs": [],
   "source": [
    "    "
   ]
  }
 ],
 "metadata": {
  "kernelspec": {
   "display_name": "Python 3 (ipykernel)",
   "language": "python",
   "name": "python3"
  },
  "language_info": {
   "codemirror_mode": {
    "name": "ipython",
    "version": 3
   },
   "file_extension": ".py",
   "mimetype": "text/x-python",
   "name": "python",
   "nbconvert_exporter": "python",
   "pygments_lexer": "ipython3",
   "version": "3.11.4"
  }
 },
 "nbformat": 4,
 "nbformat_minor": 5
}
