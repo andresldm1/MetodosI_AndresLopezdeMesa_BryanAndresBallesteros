{
 "cells": [
  {
   "cell_type": "code",
   "execution_count": 2,
   "id": "ae509e2c",
   "metadata": {},
   "outputs": [],
   "source": [
    "import numpy as np"
   ]
  },
  {
   "cell_type": "code",
   "execution_count": 4,
   "id": "c60e5829",
   "metadata": {},
   "outputs": [
    {
     "name": "stdout",
     "output_type": "stream",
     "text": [
      "La probabilidad calculada fue de 0.374371 y, el error respecto a la probablidad teorica: -0.0006289999999999907\n"
     ]
    }
   ],
   "source": [
    "n = int(10e5)\n",
    "casos = [-1,1]\n",
    "cont = 0\n",
    "for i in range(n):\n",
    "    Moneda1 = np.random.choice(casos)\n",
    "    Moneda2 = np.random.choice(casos)\n",
    "    Moneda3 = np.random.choice(casos)\n",
    "    Moneda4 = np.random.choice(casos)\n",
    "    experiment = np.array([Moneda1, Moneda2, Moneda3, Moneda4])\n",
    "    if np.count_nonzero(experiment==1)==2:\n",
    "        cont += 1\n",
    "\n",
    "result = cont/n\n",
    "print(f\"La probabilidad calculada fue de {result} y, el error respecto a la probablidad teorica: {result-3/8}\")"
   ]
  },
  {
   "cell_type": "code",
   "execution_count": null,
   "id": "4ba3640f",
   "metadata": {},
   "outputs": [],
   "source": []
  }
 ],
 "metadata": {
  "kernelspec": {
   "display_name": "Python 3 (ipykernel)",
   "language": "python",
   "name": "python3"
  },
  "language_info": {
   "codemirror_mode": {
    "name": "ipython",
    "version": 3
   },
   "file_extension": ".py",
   "mimetype": "text/x-python",
   "name": "python",
   "nbconvert_exporter": "python",
   "pygments_lexer": "ipython3",
   "version": "3.11.4"
  }
 },
 "nbformat": 4,
 "nbformat_minor": 5
}
