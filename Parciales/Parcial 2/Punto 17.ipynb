{
 "cells": [
  {
   "cell_type": "code",
   "execution_count": 21,
   "id": "73d708e9",
   "metadata": {},
   "outputs": [],
   "source": [
    "import numpy as np\n",
    "import sympy as sym\n",
    "from tqdm import tqdm\n",
    "import matplotlib.pyplot as plt"
   ]
  },
  {
   "cell_type": "code",
   "execution_count": 22,
   "id": "210f259a",
   "metadata": {},
   "outputs": [],
   "source": [
    "def Function(x):\n",
    "    f_x=(x**3)/(np.exp(x)-1)\n",
    "    return f_x"
   ]
  },
  {
   "cell_type": "code",
   "execution_count": 23,
   "id": "a3334c88",
   "metadata": {},
   "outputs": [],
   "source": [
    "def PolinomioLaguerre(n):\n",
    "    x = sym.Symbol('x', Real=True)\n",
    "    y = sym.Symbol('y', Real=True)\n",
    "    \n",
    "    y = sym.exp(-x)*x**n\n",
    "    pol_n = sym.exp(x)*sym.diff(y, x, n)/(np.math.factorial(n))\n",
    "\n",
    "    polinomio_func = sym.lambdify([x], pol_n, 'numpy')\n",
    "    return polinomio_func, pol_n"
   ]
  },
  {
   "cell_type": "code",
   "execution_count": 24,
   "id": "e8ed6894",
   "metadata": {},
   "outputs": [],
   "source": [
    "def NewtonRapson(f, df, xn, itmax=10000, precision = 1e-8):\n",
    "    error = 1\n",
    "    it = 0\n",
    "    while error>precision and it<itmax:\n",
    "        try:\n",
    "            xn1 = xn - f(xn)/df(xn)\n",
    "            error = np.abs(f(xn)/df(xn))\n",
    "        except ZeroDivisionError:\n",
    "            print('División por cero')\n",
    "        xn = xn1\n",
    "        it += 1\n",
    "    if it == itmax:\n",
    "        return False\n",
    "    else:\n",
    "        return xn"
   ]
  },
  {
   "cell_type": "code",
   "execution_count": 25,
   "id": "b123f83b",
   "metadata": {},
   "outputs": [],
   "source": [
    "def ObtenerRaices(n, decimales,puntos=int(5e3)):\n",
    "    x = sym.Symbol('x', Real=True)\n",
    "    x_prueba = np.linspace(0, 1000,puntos)\n",
    "    raices = np.array([])\n",
    "    polinomio,pol_n = PolinomioLaguerre(n)\n",
    "    dpol = sym.diff(pol_n, x, 1)\n",
    "    dpol = sym.lambdify([x], dpol, 'numpy')\n",
    "    for i in x_prueba:\n",
    "        raiz = NewtonRapson(polinomio, dpol, i)\n",
    "        raiz_r = np.round(raiz, decimales)\n",
    "        if raiz_r not in raices:\n",
    "            raices = np.append(raices, raiz_r)\n",
    "    raices.sort()\n",
    "    return raices"
   ]
  },
  {
   "cell_type": "code",
   "execution_count": 26,
   "id": "ba8946db",
   "metadata": {},
   "outputs": [],
   "source": [
    "def PesoLaguerre(n, raiz,pol_next):\n",
    "    peso=raiz/((n+1)**2*(pol_next(raiz))**2)\n",
    "    return peso"
   ]
  },
  {
   "cell_type": "code",
   "execution_count": 27,
   "id": "59e2dd65",
   "metadata": {},
   "outputs": [],
   "source": [
    "def CuadraturaGaussLaguerre(f,n, decimales=9):\n",
    "    raices = ObtenerRaices(n, decimales)\n",
    "    pesos=np.array([])\n",
    "    valores=np.array([])\n",
    "    for raiz in raices:\n",
    "        peso = PesoLaguerre(n, raiz, PolinomioLaguerre(n+1)[0])\n",
    "        pesos=np.append(pesos,peso)\n",
    "        f_x = f(raiz)\n",
    "        valores=np.append(valores,f_x)\n",
    "\n",
    "    integral = np.sum(pesos*valores)\n",
    "    \n",
    "    integral_aprox=round(integral, decimales)\n",
    "\n",
    "    return integral_aprox"
   ]
  },
  {
   "cell_type": "code",
   "execution_count": 28,
   "id": "fa4001ae",
   "metadata": {},
   "outputs": [],
   "source": [
    "def ErrorGaussLaguerre(n, decimales=9):\n",
    "    errors = np.array([])\n",
    "    for value in tqdm(n):\n",
    "        errors = np.append(errors, CuadraturaGaussLaguerre(Function,value,decimales)/(np.pi**4/15))\n",
    "    return errors"
   ]
  },
  {
   "cell_type": "code",
   "execution_count": 29,
   "id": "680e4950",
   "metadata": {},
   "outputs": [
    {
     "name": "stdout",
     "output_type": "stream",
     "text": [
      "Punto a: Integral calculada por cuadratura de Gauss-Laguerre con n = 3 y 9 cifras decimales de aproximación es 0.481130172\n"
     ]
    }
   ],
   "source": [
    "rta_a = CuadraturaGaussLaguerre(Function,3)\n",
    "print(f\"Punto a: Integral calculada por cuadratura de Gauss-Laguerre con n = 3 y 9 cifras decimales de aproximación es {rta_a}\")\n"
   ]
  },
  {
   "cell_type": "code",
   "execution_count": 30,
   "id": "f4232227",
   "metadata": {},
   "outputs": [
    {
     "name": "stderr",
     "output_type": "stream",
     "text": [
      "100%|██████████████████████████████████████████████████████████████████████████████████| 10/10 [00:12<00:00,  1.28s/it]\n"
     ]
    },
    {
     "data": {
      "text/plain": [
       "Text(0.5, 1.0, 'Precisión de la Cuadratura de Gauss Laguerre calculada')"
      ]
     },
     "execution_count": 30,
     "metadata": {},
     "output_type": "execute_result"
    },
    {
     "data": {
      "image/png": "[encoded data removed]",
      "text/plain": [
       "<Figure size 640x480 with 1 Axes>"
      ]
     },
     "metadata": {},
     "output_type": "display_data"
    }
   ],
   "source": [
    "n = np.linspace(2, 10, 10, dtype=int)\n",
    "rta_b = ErrorGaussLaguerre(n)\n",
    "fig = plt.figure()\n",
    "ax = fig.add_subplot()\n",
    "ax.scatter(n, rta_b, label= \"Error_Calculado\", color='blue')\n",
    "ax.legend()\n",
    "ax.set_ylabel(\"Error\")\n",
    "ax.set_xlabel(\"n\")\n",
    "ax.grid()\n",
    "ax.set_axisbelow(True)\n",
    "plt.title(\"Precisión de la Cuadratura de Gauss Laguerre calculada\")"
   ]
  },
  {
   "cell_type": "code",
   "execution_count": null,
   "id": "99f3f062",
   "metadata": {},
   "outputs": [],
   "source": []
  }
 ],
 "metadata": {
  "kernelspec": {
   "display_name": "Python 3 (ipykernel)",
   "language": "python",
   "name": "python3"
  },
  "language_info": {
   "codemirror_mode": {
    "name": "ipython",
    "version": 3
   },
   "file_extension": ".py",
   "mimetype": "text/x-python",
   "name": "python",
   "nbconvert_exporter": "python",
   "pygments_lexer": "ipython3",
   "version": "3.11.4"
  }
 },
 "nbformat": 4,
 "nbformat_minor": 5
}
