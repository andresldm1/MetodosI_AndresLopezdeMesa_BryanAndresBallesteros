{
 "cells": [
  {
   "cell_type": "code",
   "execution_count": 102,
   "id": "51006934",
   "metadata": {},
   "outputs": [
    {
     "data": {
      "text/html": [
       "<style>.container { width:100% !important; }</style>"
      ],
      "text/plain": [
       "<IPython.core.display.HTML object>"
      ]
     },
     "metadata": {},
     "output_type": "display_data"
    }
   ],
   "source": [
    "from IPython.display import display, HTML\n",
    "display(HTML(\"<style>.container { width:100% !important; }</style>\"))\n",
    "import numpy as np\n",
    "import matplotlib.pyplot as plt\n",
    "from scipy import integrate\n",
    "import sympy as sym\n",
    "sym.init_printing(use_unicode=True)"
   ]
  },
  {
   "cell_type": "code",
   "execution_count": 103,
   "id": "b61b6b55",
   "metadata": {},
   "outputs": [],
   "source": [
    "def Function(x):\n",
    "    f_x=(x**3)/(np.exp(x)-1)\n",
    "    return f_x"
   ]
  },
  {
   "cell_type": "code",
   "execution_count": 104,
   "id": "e22fecd9",
   "metadata": {},
   "outputs": [
    {
     "data": {
      "image/png": "[encoded data removed]",
      "text/latex": [
       "$\\displaystyle 6.23617800932012$"
      ],
      "text/plain": [
       "6.2361780093201205"
      ]
     },
     "execution_count": 104,
     "metadata": {},
     "output_type": "execute_result"
    }
   ],
   "source": [
    "k = 1.3806 * 10**(-23)\n",
    "T = 5772\n",
    "c = 3 * 10**8\n",
    "h = 6.626 * 10**(-34)\n",
    "v_0 = c / (100*10**(-9))\n",
    "v_1 = c / (400*10**(-9))\n",
    "\n",
    "limite_inferior = (h*v_1)/(k*T)\n",
    "limite_inferior\n"
   ]
  },
  {
   "cell_type": "code",
   "execution_count": 105,
   "id": "90d5a620",
   "metadata": {},
   "outputs": [
    {
     "data": {
      "image/png": "[encoded data removed]",
      "text/latex": [
       "$\\displaystyle 24.9447120372805$"
      ],
      "text/plain": [
       "24.944712037280482"
      ]
     },
     "execution_count": 105,
     "metadata": {},
     "output_type": "execute_result"
    }
   ],
   "source": [
    "limite_superior = (h*v_0)/(k*T)\n",
    "limite_superior"
   ]
  },
  {
   "cell_type": "code",
   "execution_count": 106,
   "id": "df8bd9af",
   "metadata": {},
   "outputs": [],
   "source": [
    "a = limite_inferior\n",
    "b = limite_superior\n",
    "n = 20\n",
    "Roots, Weights = np.polynomial.legendre.leggauss(n)"
   ]
  },
  {
   "cell_type": "code",
   "execution_count": 107,
   "id": "62e8f003",
   "metadata": {},
   "outputs": [
    {
     "data": {
      "image/png": "[encoded data removed]",
      "text/latex": [
       "$\\displaystyle 0.788636040607512$"
      ],
      "text/plain": [
       "0.7886360406075117"
      ]
     },
     "execution_count": 107,
     "metadata": {},
     "output_type": "execute_result"
    }
   ],
   "source": [
    "t = 0.5*( (b-a)*Roots + a + b )\n",
    "Integral = 0.5*(b-a)*np.sum(Weights*Function(t))\n",
    "Integral"
   ]
  },
  {
   "cell_type": "code",
   "execution_count": null,
   "id": "c573e0a1",
   "metadata": {},
   "outputs": [],
   "source": []
  },
  {
   "cell_type": "code",
   "execution_count": 108,
   "id": "0c41f532",
   "metadata": {},
   "outputs": [],
   "source": [
    "# integral inferior"
   ]
  },
  {
   "cell_type": "code",
   "execution_count": 109,
   "id": "7d206eea",
   "metadata": {},
   "outputs": [],
   "source": [
    "Zeros, Weights = np.polynomial.laguerre.laggauss(n)\n",
    "f = lambda x: (x**3)/(-np.exp(-x)+1)\n",
    "I = np.sum(f(Zeros)*Weights)\n"
   ]
  },
  {
   "cell_type": "code",
   "execution_count": 110,
   "id": "2340baef",
   "metadata": {},
   "outputs": [
    {
     "data": {
      "image/png": "[encoded data removed]",
      "text/latex": [
       "$\\displaystyle 0.121441853975102$"
      ],
      "text/plain": [
       "0.12144185397510186"
      ]
     },
     "execution_count": 110,
     "metadata": {},
     "output_type": "execute_result"
    }
   ],
   "source": [
    "Resultado = Integral/I\n",
    "Resultado"
   ]
  },
  {
   "cell_type": "code",
   "execution_count": null,
   "id": "9f2c58a2",
   "metadata": {},
   "outputs": [],
   "source": []
  }
 ],
 "metadata": {
  "kernelspec": {
   "display_name": "Python 3 (ipykernel)",
   "language": "python",
   "name": "python3"
  },
  "language_info": {
   "codemirror_mode": {
    "name": "ipython",
    "version": 3
   },
   "file_extension": ".py",
   "mimetype": "text/x-python",
   "name": "python",
   "nbconvert_exporter": "python",
   "pygments_lexer": "ipython3",
   "version": "3.11.4"
  }
 },
 "nbformat": 4,
 "nbformat_minor": 5
}
