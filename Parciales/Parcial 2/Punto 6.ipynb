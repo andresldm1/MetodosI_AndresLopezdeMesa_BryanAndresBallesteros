{
 "cells": [
  {
   "cell_type": "code",
   "execution_count": 1,
   "id": "2137c730",
   "metadata": {},
   "outputs": [],
   "source": [
    "import numpy as np\n",
    "import matplotlib.pyplot as plt\n",
    "from scipy import integrate"
   ]
  },
  {
   "cell_type": "code",
   "execution_count": 47,
   "id": "62760cf4",
   "metadata": {},
   "outputs": [],
   "source": [
    "class Integrator:\n",
    "    \n",
    "    def __init__(self, x,y):\n",
    "        \n",
    "        self.x = x\n",
    "        self.y = y\n",
    "        self.h = self.x[1] - self.x[0]\n",
    "        \n",
    "        self.integral = 0.\n",
    "    \n",
    "    def Trapezoid(self):\n",
    "        \n",
    "        self.integral = 0.\n",
    "        \n",
    "        self.integral += 0.5*(self.y[0] + self.y[-1])\n",
    "        \n",
    "        self.integral += np.sum( self.y[1:-1] )\n",
    "        \n",
    "        return self.integral*self.h\n",
    "    \n",
    "    def GetTrapezoidError(self,f):\n",
    "        \n",
    "        d = (f( self.x + self.h ) - 2*f(self.x) + f( self.x - self.h))/self.h**2 \n",
    "        \n",
    "        \n",
    "        max_ = np.max(np.abs(d))\n",
    "        \n",
    "        self.error = (max_* (self.x[-1]-self.x[0])**3 )/(12*(len(self.x)-1)**2)\n",
    "        \n",
    "        return self.error\n",
    "    \n",
    "    def Simpson(self):\n",
    "        \n",
    "        self.integral = 0.\n",
    "        \n",
    "        self.integral += self.y[0] + self.y[-1]\n",
    "        \n",
    "        for i in range( len(y[1:-1]) ):\n",
    "            if i%2 == 0:\n",
    "                self.integral += 4*y[i+1]\n",
    "            else:\n",
    "                self.integral += 2*y[i+1]\n",
    "                \n",
    "        return self.integral*self.h/3\n",
    "    \n",
    "    def GetSimpsonError(self,f):\n",
    "        \n",
    "        d = (f( self.x + 2*self.h ) - 4*f( self.x + self.h ) + 6*f(self.x) - 4*f( self.x - self.h ) + f(self.x - 2*self.h))/self.h**4\n",
    "        \n",
    "        max_ = np.max( np.abs(d) )\n",
    "        \n",
    "        self.error = (self.x[-1] - self.x[0])*self.h**4 * max_ / 180.\n",
    "        \n",
    "        return self.error"
   ]
  },
  {
   "cell_type": "code",
   "execution_count": 57,
   "id": "c182dc59",
   "metadata": {},
   "outputs": [],
   "source": [
    "induc = lambda x: (np.sqrt(abs((0.01**2)-(x**2)))/(0.5+x))\n",
    "N = 12\n",
    "x = np.linspace(-0.01,0.01,N+1)\n",
    "y = induc(x)"
   ]
  },
  {
   "cell_type": "code",
   "execution_count": 58,
   "id": "88cb8297",
   "metadata": {},
   "outputs": [
    {
     "data": {
      "text/plain": [
       "<__main__.Integrator at 0x1c8239252d0>"
      ]
     },
     "execution_count": 58,
     "metadata": {},
     "output_type": "execute_result"
    }
   ],
   "source": [
    "int1 = Integrator(x,y)\n",
    "int1"
   ]
  },
  {
   "cell_type": "code",
   "execution_count": 59,
   "id": "7d8a936f",
   "metadata": {},
   "outputs": [
    {
     "data": {
      "text/plain": [
       "0.0003062266750904219"
      ]
     },
     "execution_count": 59,
     "metadata": {},
     "output_type": "execute_result"
    }
   ],
   "source": [
    "int1.Trapezoid()"
   ]
  },
  {
   "cell_type": "code",
   "execution_count": 60,
   "id": "cc3f79e1",
   "metadata": {},
   "outputs": [
    {
     "data": {
      "text/plain": [
       "3.924738608657775e-05"
      ]
     },
     "execution_count": 60,
     "metadata": {},
     "output_type": "execute_result"
    }
   ],
   "source": [
    "int1.GetTrapezoidError(induc)"
   ]
  },
  {
   "cell_type": "code",
   "execution_count": 61,
   "id": "4f65a72a",
   "metadata": {},
   "outputs": [
    {
     "data": {
      "text/plain": [
       "0.00031104270146004677"
      ]
     },
     "execution_count": 61,
     "metadata": {},
     "output_type": "execute_result"
    }
   ],
   "source": [
    "int1.Simpson()"
   ]
  },
  {
   "cell_type": "code",
   "execution_count": 62,
   "id": "2d3e3bd4",
   "metadata": {},
   "outputs": [
    {
     "data": {
      "text/plain": [
       "6.773730541098589e-06"
      ]
     },
     "execution_count": 62,
     "metadata": {},
     "output_type": "execute_result"
    }
   ],
   "source": [
    "int1.GetSimpsonError(induc)"
   ]
  },
  {
   "cell_type": "code",
   "execution_count": null,
   "id": "b6e13145",
   "metadata": {},
   "outputs": [],
   "source": []
  }
 ],
 "metadata": {
  "kernelspec": {
   "display_name": "Python 3 (ipykernel)",
   "language": "python",
   "name": "python3"
  },
  "language_info": {
   "codemirror_mode": {
    "name": "ipython",
    "version": 3
   },
   "file_extension": ".py",
   "mimetype": "text/x-python",
   "name": "python",
   "nbconvert_exporter": "python",
   "pygments_lexer": "ipython3",
   "version": "3.11.4"
  }
 },
 "nbformat": 4,
 "nbformat_minor": 5
}
