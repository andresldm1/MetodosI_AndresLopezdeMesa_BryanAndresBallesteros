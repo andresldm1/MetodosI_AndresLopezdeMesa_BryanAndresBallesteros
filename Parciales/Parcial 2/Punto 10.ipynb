{
 "cells": [
  {
   "cell_type": "code",
   "execution_count": 1,
   "id": "5338e421",
   "metadata": {},
   "outputs": [],
   "source": [
    "import numpy as np\n",
    "import sympy as sy"
   ]
  },
  {
   "cell_type": "code",
   "execution_count": 2,
   "id": "a12940d1",
   "metadata": {},
   "outputs": [],
   "source": [
    "x=sy.Symbol(\"x\",Real=True)"
   ]
  },
  {
   "cell_type": "code",
   "execution_count": 3,
   "id": "c2b9f318",
   "metadata": {},
   "outputs": [
    {
     "data": {
      "text/latex": [
       "$\\displaystyle - 6 h^{3} x + 11 h^{2} x^{2} - 6 h x^{3} + x^{4}$"
      ],
      "text/plain": [
       "-6*h**3*x + 11*h**2*x**2 - 6*h*x**3 + x**4"
      ]
     },
     "execution_count": 3,
     "metadata": {},
     "output_type": "execute_result"
    }
   ],
   "source": [
    "h=sy.Symbol(\"h\")\n",
    "expanded_prod=sy.expand(x*(x-h)*(x-2*h)*(x-3*h))\n",
    "expanded_prod"
   ]
  },
  {
   "cell_type": "code",
   "execution_count": 4,
   "id": "09e5220e",
   "metadata": {},
   "outputs": [
    {
     "data": {
      "text/latex": [
       "$\\displaystyle - 3 h^{3} x^{2} + \\frac{11 h^{2} x^{3}}{3} - \\frac{3 h x^{4}}{2} + \\frac{x^{5}}{5}$"
      ],
      "text/plain": [
       "-3*h**3*x**2 + 11*h**2*x**3/3 - 3*h*x**4/2 + x**5/5"
      ]
     },
     "execution_count": 4,
     "metadata": {},
     "output_type": "execute_result"
    }
   ],
   "source": [
    "int_ind=sy.integrate(expanded_prod,x)\n",
    "int_ind"
   ]
  },
  {
   "cell_type": "code",
   "execution_count": 5,
   "id": "8cf95c9c",
   "metadata": {},
   "outputs": [
    {
     "data": {
      "text/latex": [
       "$\\displaystyle - \\frac{9 h^{5}}{10}$"
      ],
      "text/plain": [
       "-9*h**5/10"
      ]
     },
     "execution_count": 5,
     "metadata": {},
     "output_type": "execute_result"
    }
   ],
   "source": [
    "int_def=sy.integrate(expanded_prod,(x,0,3*h))\n",
    "int_def"
   ]
  },
  {
   "cell_type": "code",
   "execution_count": 6,
   "id": "3ee76a00",
   "metadata": {},
   "outputs": [
    {
     "data": {
      "text/latex": [
       "$\\displaystyle - \\frac{3 h^{5}}{80}$"
      ],
      "text/plain": [
       "-3*h**5/80"
      ]
     },
     "execution_count": 6,
     "metadata": {},
     "output_type": "execute_result"
    }
   ],
   "source": [
    "int_def/24"
   ]
  },
  {
   "cell_type": "code",
   "execution_count": null,
   "id": "1047ea01",
   "metadata": {},
   "outputs": [],
   "source": []
  }
 ],
 "metadata": {
  "kernelspec": {
   "display_name": "Python 3 (ipykernel)",
   "language": "python",
   "name": "python3"
  },
  "language_info": {
   "codemirror_mode": {
    "name": "ipython",
    "version": 3
   },
   "file_extension": ".py",
   "mimetype": "text/x-python",
   "name": "python",
   "nbconvert_exporter": "python",
   "pygments_lexer": "ipython3",
   "version": "3.11.4"
  }
 },
 "nbformat": 4,
 "nbformat_minor": 5
}
