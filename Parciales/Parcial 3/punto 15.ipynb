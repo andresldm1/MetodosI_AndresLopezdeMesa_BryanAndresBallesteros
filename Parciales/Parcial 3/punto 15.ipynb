{
 "cells": [
  {
   "cell_type": "code",
   "execution_count": null,
   "metadata": {},
   "outputs": [],
   "source": []
  },
  {
   "cell_type": "code",
   "execution_count": null,
   "metadata": {},
   "outputs": [],
   "source": [
    "import sympy as sym\n",
    "\n",
    "def punto15():\n",
    "    \n",
    "    contador = 0\n",
    "    \n",
    "    i = 1j\n",
    "    \n",
    "    combinaciones = []\n",
    "    \n",
    "    Matrices = [sym.Matrix([[0, 1],\n",
    "                           [1, 0]]),\n",
    "                \n",
    "                sym.Matrix([[0, -i],\n",
    "                           [i, 0]]),\n",
    "     \n",
    "                sym.Matrix([[1, 0],\n",
    "                           [0, -1]])]\n",
    "    \n",
    "    for j in range(0, 3):\n",
    "        for l in range(0, 3):\n",
    "            \n",
    "                \n",
    "            A = Matrices[j]\n",
    "            B = Matrices[l]\n",
    "            \n",
    "            if (j == 0 and l == 1) or (j == 1 and l == 2) or (j == 2 and l == 0):\n",
    "                e = 1\n",
    "            elif (j == 2 and l == 1) or (j == 0 and l == 2) or (j == 1 and l == 0):\n",
    "                e = -1\n",
    "            else:\n",
    "                e = 0\n",
    "                \n",
    "            multiplicacion = A * B - B * A\n",
    "        \n",
    "            if (j == 0 and l == 1) or (j == 1 and l == 0):\n",
    "                k = 2\n",
    "            elif (j == 1 and l == 2) or (j == 2 and l == 1):\n",
    "                k = 0\n",
    "            elif (j == 0 and l == 2) or (j == 2 and l == 0):\n",
    "                k = 1\n",
    "            else:\n",
    "                k = 0\n",
    "            \n",
    "            resultado = 2 * i * e * Matrices[k]\n",
    "            \n",
    "            if resultado == multiplicacion:\n",
    "                contador += 1\n",
    "                combinaciones.append([j,l])\n",
    "                \n",
    "    return contador, combinaciones\n",
    "\n",
    "print(punto15())\n"
   ]
  }
 ],
 "metadata": {
  "language_info": {
   "name": "python"
  }
 },
 "nbformat": 4,
 "nbformat_minor": 2
}
