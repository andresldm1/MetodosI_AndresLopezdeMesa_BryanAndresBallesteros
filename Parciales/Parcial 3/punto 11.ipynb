{
 "cells": [
  {
   "cell_type": "code",
   "execution_count": null,
   "metadata": {},
   "outputs": [],
   "source": []
  },
  {
   "cell_type": "code",
   "execution_count": null,
   "metadata": {},
   "outputs": [],
   "source": [
    "import numpy as np\n",
    "\n",
    "def MetodoPotencia(H, V, k=1000):\n",
    "    \n",
    "    H_inv = np.linalg.inv(H)\n",
    "    \n",
    "    W = V / np.sqrt(np.matmul(V.T, V))\n",
    "\n",
    "    for i in range(k+1):\n",
    "            V = np.matmul(H_inv, W)\n",
    "            W = V / np.sqrt(np.matmul(V.T, V))\n",
    "\n",
    "    P1 = np.matmul(H_inv, W)\n",
    "    Niu = np.matmul(W.T, P1)\n",
    "\n",
    "    return Niu, W\n",
    "\n",
    "\n",
    "H = np.array([[1, 2, -1],\n",
    "              [1, 0, 1],\n",
    "              [4, -4, 5]])\n",
    "\n",
    "V = np.array([1, 1, 1])\n",
    "\n",
    "print(MetodoPotencia(H, V))"
   ]
  }
 ],
 "metadata": {
  "language_info": {
   "name": "python"
  }
 },
 "nbformat": 4,
 "nbformat_minor": 2
}
