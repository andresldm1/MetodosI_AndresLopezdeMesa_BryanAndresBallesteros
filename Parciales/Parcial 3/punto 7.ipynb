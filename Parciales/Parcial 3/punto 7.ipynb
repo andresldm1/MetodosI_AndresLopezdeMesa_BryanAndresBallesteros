{
 "cells": [
  {
   "cell_type": "code",
   "execution_count": null,
   "metadata": {},
   "outputs": [],
   "source": [
    "import numpy as np\n",
    "\n",
    "def punto17(A, B, x0, omega, itmax=1000, tolerancia=1e-14):\n",
    "    x = x0.copy()\n",
    "    u = x.copy()\n",
    "    sumk = x.copy()\n",
    "    residuo = np.linalg.norm(np.dot(A, x) - B)\n",
    "    it = 0\n",
    "    \n",
    "    while residuo >= tolerancia and it < itmax:\n",
    "        u[:] = 0\n",
    "        sumk[:] = 0.\n",
    "        for i in range(A.shape[0]):\n",
    "            for j in range(A.shape[1]):\n",
    "                if i != j:\n",
    "                    sumk[i] += A[i, j] * x[j]\n",
    "            u[i] = (1 - omega) * x[i] + (omega / A[i, i]) * (B[i] - sumk[i] - sumk[i - 1])\n",
    "        x = u.copy()\n",
    "        residuo = np.linalg.norm(np.dot(A, x) - B)\n",
    "        it += 1\n",
    "        if residuo > 1000:\n",
    "            print('No se puede calcular')\n",
    "            x[:] = 0.\n",
    "            break\n",
    "\n",
    "    return x, it\n",
    "\n",
    "A = np.array([[3, -1, -1], [-1, 3, 1], [2, 1, 4]])\n",
    "B = np.array([1, 3, 7])\n",
    "x0 = np.array([0, 0, 0])\n",
    "Z, iteraciones = punto17(A, B, x0, 1.1)\n",
    "print(Z, iteraciones)\n",
    "\n",
    "it = 1000\n",
    "x = x0\n",
    "for i in range(11, 20):\n",
    "    omega = i / 10\n",
    "    S, ite = punto17(A, B, x0, omega)\n",
    "    if ite < it:\n",
    "        it = ite\n",
    "        x = S\n",
    "        O = omega\n",
    "\n",
    "print(np.linalg.solve(A, B))"
   ]
  }
 ],
 "metadata": {
  "language_info": {
   "name": "python"
  }
 },
 "nbformat": 4,
 "nbformat_minor": 2
}
