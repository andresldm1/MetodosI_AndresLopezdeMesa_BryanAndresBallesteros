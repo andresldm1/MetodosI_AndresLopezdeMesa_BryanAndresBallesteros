{
 "cells": [
  {
   "cell_type": "code",
   "execution_count": 21,
   "id": "f933f880",
   "metadata": {},
   "outputs": [],
   "source": [
    "import numpy as np\n",
    "import sympy as sym\n",
    "import scipy as linalg"
   ]
  },
  {
   "cell_type": "code",
   "execution_count": 22,
   "id": "340dd207",
   "metadata": {},
   "outputs": [],
   "source": [
    "A = np.array([[0.2, 0.1, 1, 1, 0], \n",
    "              [0.1, 4, -1, 1, -1], \n",
    "              [1, -1, 60, 0, -2], \n",
    "              [1, 1, 0, 8, 4], \n",
    "              [0, -1, -2, 4, 700]])\n",
    "\n",
    "b = np.array([1, 2, 3, 4, 5])\n",
    "\n",
    "x0 = np.array([0, 0, 0, 0, 0])\n"
   ]
  },
  {
   "cell_type": "code",
   "execution_count": 23,
   "id": "243b770f",
   "metadata": {},
   "outputs": [],
   "source": [
    "def norma(r):\n",
    "    x = 0\n",
    "    for i in range(len(r)):\n",
    "        if np.abs(r[i]) > x:\n",
    "            x = np.abs(r[i])\n",
    "    return x\n",
    "\n",
    "def gradiente(A, b, x_0, e = 0.01):\n",
    "    r = np.dot(A, x_0) - b\n",
    "    p = -r\n",
    "    ite = 0\n",
    "    x = x_0\n",
    "    while norma(r) > e:\n",
    "        alpha = - (np.dot(r.T, p)) / (np.dot(np.dot(p.T, A), p))\n",
    "        x = x + np.dot(alpha,p)\n",
    "        r = np.dot(A, x) - b\n",
    "        beta = (np.dot(np.dot(r.T, A), p))/(np.dot(np.dot(p.T, A), p))\n",
    "        p = -r + beta*p\n",
    "        ite += 1\n",
    "    print (ite)\n",
    "    return x, ite\n",
    "\n"
   ]
  },
  {
   "cell_type": "code",
   "execution_count": 29,
   "id": "bb8f280b",
   "metadata": {},
   "outputs": [
    {
     "name": "stdout",
     "output_type": "stream",
     "text": [
      "5\n"
     ]
    },
    {
     "data": {
      "text/plain": [
       "(array([ 7.85971308,  0.42292641, -0.07359224, -0.54064302,  0.01062616]), 5)"
      ]
     },
     "execution_count": 29,
     "metadata": {},
     "output_type": "execute_result"
    }
   ],
   "source": [
    "gradiente(A, b, x0)"
   ]
  },
  {
   "cell_type": "code",
   "execution_count": 28,
   "id": "f58887f2",
   "metadata": {},
   "outputs": [
    {
     "data": {
      "text/plain": [
       "array([ 7.85971308,  0.42292641, -0.07359224, -0.54064302,  0.01062616])"
      ]
     },
     "execution_count": 28,
     "metadata": {},
     "output_type": "execute_result"
    }
   ],
   "source": [
    "np.linalg.solve(A, b)"
   ]
  },
  {
   "cell_type": "code",
   "execution_count": null,
   "id": "5ee2b708",
   "metadata": {},
   "outputs": [],
   "source": []
  }
 ],
 "metadata": {
  "kernelspec": {
   "display_name": "Python 3 (ipykernel)",
   "language": "python",
   "name": "python3"
  },
  "language_info": {
   "codemirror_mode": {
    "name": "ipython",
    "version": 3
   },
   "file_extension": ".py",
   "mimetype": "text/x-python",
   "name": "python",
   "nbconvert_exporter": "python",
   "pygments_lexer": "ipython3",
   "version": "3.11.4"
  }
 },
 "nbformat": 4,
 "nbformat_minor": 5
}
