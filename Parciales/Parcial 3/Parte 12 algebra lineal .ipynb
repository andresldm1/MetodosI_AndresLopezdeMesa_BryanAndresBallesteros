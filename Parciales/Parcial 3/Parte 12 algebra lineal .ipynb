{
 "cells": [
  {
   "cell_type": "code",
   "execution_count": 19,
   "id": "0a79b5e3",
   "metadata": {},
   "outputs": [],
   "source": [
    "import numpy as np\n",
    "import matplotlib.pyplot as plt\n",
    "from IPython.display import clear_output\n",
    "import time"
   ]
  },
  {
   "cell_type": "code",
   "execution_count": 20,
   "id": "91dae760",
   "metadata": {},
   "outputs": [],
   "source": [
    "# definamos los sistemas no lineales que nos enuncian en el ejercicio \n",
    "G=(lambda x1,x2: np.log(x1**2 + x2**2) - np.sin(x1*x2) - np.log(2) - np.log(np.pi), \\\n",
    "   lambda x1,x2: np.exp(x1-x2)+np.cos(x1*x2))\n",
    "\n",
    "G1=(lambda x1,x2,x3: 6*x1-2*np.cos(x2*x3)-1, \\\n",
    "   lambda x1,x2,x3: 9*x2+np.sqrt(x1**2+np.sin(x3)+1.06)+0.9, \\\n",
    "   lambda x1,x2,x3: 60*x3+3*np.exp(-x1*x2)+10*np.pi-3)"
   ]
  },
  {
   "cell_type": "code",
   "execution_count": 21,
   "id": "29a1e55e",
   "metadata": {},
   "outputs": [],
   "source": [
    "def GetVectorF_G(G,r):\n",
    "    \n",
    "    dim = len(G)\n",
    "    \n",
    "    v = np.zeros(dim)\n",
    "    \n",
    "    for i in range(dim):\n",
    "        v[i] = G[i](r[0],r[1])\n",
    "        \n",
    "    return v"
   ]
  },
  {
   "cell_type": "code",
   "execution_count": 22,
   "id": "b6e4f455",
   "metadata": {},
   "outputs": [],
   "source": [
    "def GetJacobian_G(G,r,h=1e-6):\n",
    "    \n",
    "    dim = len(G)\n",
    "    \n",
    "    J = np.zeros((dim,dim))\n",
    "    \n",
    "    for i in range(dim):\n",
    "        J[i,0] = (  G[i](r[0]+h,r[1]) - G[i](r[0]-h,r[1]) )/(2*h)\n",
    "        J[i,1] = (  G[i](r[0],r[1]+h) - G[i](r[0],r[1]-h) )/(2*h)\n",
    "        \n",
    "    return J.T"
   ]
  },
  {
   "cell_type": "code",
   "execution_count": 23,
   "id": "1710e681",
   "metadata": {},
   "outputs": [],
   "source": [
    "def GetMetric_G(G,r):\n",
    "    v = GetVectorF_G(G,r)\n",
    "    return 0.5*np.linalg.norm(v)**2"
   ]
  },
  {
   "cell_type": "code",
   "execution_count": 24,
   "id": "a57ed6e9",
   "metadata": {},
   "outputs": [],
   "source": [
    "def GetSolve_G(G,r,lr=1e-3,epochs=int(1e5),error=1e-7):\n",
    "    \n",
    "    d = 1\n",
    "    it = 0\n",
    "    Vector_F = np.array([])\n",
    "    \n",
    "    R_vector = np.array(r)\n",
    "    \n",
    "    while d > error and it < epochs:\n",
    "        \n",
    "        CurrentF = GetMetric_G(G,r)\n",
    "        \n",
    "        J = GetJacobian_G(G,r)\n",
    "        \n",
    "        GVector = GetVectorF_G(G,r)\n",
    "        \n",
    "        r -= lr*np.dot(J,GVector) \n",
    "        \n",
    "        R_vector = np.vstack((R_vector,r))\n",
    "        \n",
    "        NewF = GetMetric_G(G,r)\n",
    "        \n",
    "        \n",
    "        Vector_F = np.append(Vector_F,NewF)\n",
    "        \n",
    "        d = np.abs( CurrentF - NewF )/NewF\n",
    "        \n",
    "        \n",
    "        if it%500 == 0:\n",
    "            \n",
    "            clear_output(wait=True)\n",
    "\n",
    "            time.sleep(0.01)\n",
    "    \n",
    "        it += 1\n",
    "        \n",
    "    if d < error:\n",
    "        print(' Entrenamiento completo ', d, 'iteraciones', it)\n",
    "        \n",
    "    if it == epochs:\n",
    "        print(' Entrenamiento no completado ')\n",
    "        \n",
    "    return r,it,Vector_F,R_vector"
   ]
  },
  {
   "cell_type": "code",
   "execution_count": 25,
   "id": "42e12782",
   "metadata": {},
   "outputs": [
    {
     "name": "stdout",
     "output_type": "stream",
     "text": [
      " Entrenamiento completo  0.0 iteraciones 13218\n"
     ]
    }
   ],
   "source": [
    "xsol,it,F,R = GetSolve_G(G,[2,2],lr=1e-3)\n"
   ]
  },
  {
   "cell_type": "code",
   "execution_count": 26,
   "id": "6a4de0a6",
   "metadata": {},
   "outputs": [
    {
     "data": {
      "text/plain": [
       "array([1.77245385, 1.77245385])"
      ]
     },
     "execution_count": 26,
     "metadata": {},
     "output_type": "execute_result"
    }
   ],
   "source": [
    "xsol"
   ]
  },
  {
   "cell_type": "code",
   "execution_count": 27,
   "id": "44d4fee4",
   "metadata": {},
   "outputs": [],
   "source": [
    "def GetVectorF_G1(G,r):\n",
    "    \n",
    "    dim = len(G)\n",
    "    \n",
    "    v = np.zeros(dim)\n",
    "    \n",
    "    for i in range(dim):\n",
    "        v[i] = G1[i](r[0],r[1],r[2])\n",
    "        \n",
    "    return v"
   ]
  },
  {
   "cell_type": "code",
   "execution_count": 28,
   "id": "e2802ff1",
   "metadata": {},
   "outputs": [],
   "source": [
    "def GetJacobian_G1(G,r,h=1e-6):\n",
    "    \n",
    "    dim = len(G)\n",
    "    \n",
    "    J = np.zeros((dim,dim))\n",
    "    \n",
    "    for i in range(dim):\n",
    "        J[i,0] = (  G[i](r[0]+h,r[1],r[2]) - G[i](r[0]-h,r[1],r[2]) )/(2*h)\n",
    "        J[i,1] = (  G[i](r[0],r[1]+h,r[2]) - G[i](r[0],r[1]-h,r[2]) )/(2*h)\n",
    "        J[i,2] = (  G[i](r[0],r[1],r[2]+h) - G[i](r[0],r[1],r[2]-h) )/(2*h)\n",
    "        \n",
    "    return J.T"
   ]
  },
  {
   "cell_type": "code",
   "execution_count": 29,
   "id": "f4a2c70a",
   "metadata": {},
   "outputs": [],
   "source": [
    "def GetMetric_G1(G,r):\n",
    "    v = GetVectorF_G1(G,r)\n",
    "    return 0.5*np.linalg.norm(v)**2"
   ]
  },
  {
   "cell_type": "code",
   "execution_count": 30,
   "id": "ea09b603",
   "metadata": {},
   "outputs": [],
   "source": [
    "def GetSolve_G1(G,r,lr=1e-3,epochs=int(1e5),error=1e-7):\n",
    "    \n",
    "    d = 1\n",
    "    it = 0\n",
    "    Vector_F = np.array([])\n",
    "    \n",
    "    R_vector = np.array(r)\n",
    "    \n",
    "    while d > error and it < epochs:\n",
    "        \n",
    "        CurrentF = GetMetric_G1(G,r)\n",
    "        \n",
    "        J = GetJacobian_G1(G,r)\n",
    "        \n",
    "        GVector = GetVectorF_G1(G,r)\n",
    "        \n",
    "        r -= lr*np.dot(J,GVector) \n",
    "        \n",
    "        R_vector = np.vstack((R_vector,r))\n",
    "        \n",
    "        NewF = GetMetric_G1(G,r)\n",
    "        \n",
    "        \n",
    "        Vector_F = np.append(Vector_F,NewF)\n",
    "        \n",
    "        d = np.abs( CurrentF - NewF )/NewF\n",
    "        \n",
    "        \n",
    "        if it%500 == 0:\n",
    "\n",
    "            clear_output(wait=True)\n",
    "\n",
    "            time.sleep(0.01)\n",
    "    \n",
    "        it += 1\n",
    "        \n",
    "    if d < error:\n",
    "        print(' Entrenamiento completo ', d, 'iteraciones', it)\n",
    "        \n",
    "    if it == epochs:\n",
    "        print(' Entrenamiento no completado ')\n",
    "        \n",
    "    return r,it,Vector_F,R_vector"
   ]
  },
  {
   "cell_type": "code",
   "execution_count": 31,
   "id": "e3192f4b",
   "metadata": {},
   "outputs": [
    {
     "name": "stderr",
     "output_type": "stream",
     "text": [
      "C:\\Users\\Andrés\\AppData\\Local\\Temp\\ipykernel_11956\\2811747139.py:7: RuntimeWarning: overflow encountered in exp\n",
      "  lambda x1,x2,x3: 60*x3+3*np.exp(-x1*x2)+10*np.pi-3)\n",
      "C:\\Users\\Andrés\\AppData\\Local\\Temp\\ipykernel_11956\\3500005507.py:26: RuntimeWarning: invalid value encountered in scalar divide\n",
      "  d = np.abs( CurrentF - NewF )/NewF\n"
     ]
    }
   ],
   "source": [
    "xsol,it,F,R = GetSolve_G1(G1,[0,0,0],lr=1e-3)\n"
   ]
  },
  {
   "cell_type": "code",
   "execution_count": 32,
   "id": "58c76c31",
   "metadata": {},
   "outputs": [
    {
     "data": {
      "text/plain": [
       "array([ 5.20774907e+20, -3.89678715e+20, -1.82611754e+10])"
      ]
     },
     "execution_count": 32,
     "metadata": {},
     "output_type": "execute_result"
    }
   ],
   "source": [
    "xsol\n"
   ]
  },
  {
   "cell_type": "code",
   "execution_count": 33,
   "id": "fbc3c72a",
   "metadata": {},
   "outputs": [],
   "source": [
    "def NewtonRaphson_G(G,r,error=1e-10):\n",
    "    \n",
    "    it = 0\n",
    "    d = 1\n",
    "    Vector_d = np.array([])\n",
    "    \n",
    "    while d > error:\n",
    "        \n",
    "        it += 1\n",
    "        \n",
    "        rc = r\n",
    "        \n",
    "        F = GetVectorF_G(G,r)\n",
    "        J = GetJacobian_G(G,r)\n",
    "        InvJ = np.linalg.inv(J)\n",
    "        \n",
    "        r = rc - np.dot( InvJ, F )\n",
    "        \n",
    "        diff = r - rc\n",
    "        print(diff)\n",
    "        \n",
    "        d = np.linalg.norm(diff)\n",
    "        \n",
    "        Vector_d = np.append( Vector_d , d )\n",
    "        \n",
    "    return r,it,Vector_d"
   ]
  },
  {
   "cell_type": "code",
   "execution_count": 34,
   "id": "b8105353",
   "metadata": {},
   "outputs": [],
   "source": [
    "def NewtonRaphson_G1(G,r,error=1e-10):\n",
    "    \n",
    "    it = 0\n",
    "    d = 1\n",
    "    Vector_d = np.array([])\n",
    "    \n",
    "    while d > error:\n",
    "        \n",
    "        it += 1\n",
    "        \n",
    "        rc = r\n",
    "        \n",
    "        F = GetVectorF_G1(G,r)\n",
    "        J = GetJacobian_G1(G,r)\n",
    "        InvJ = np.linalg.inv(J)\n",
    "        \n",
    "        r = rc - np.dot( InvJ, F )\n",
    "        \n",
    "        diff = r - rc\n",
    "        print(diff)\n",
    "        \n",
    "        d = np.linalg.norm(diff)\n",
    "        \n",
    "        Vector_d = np.append( Vector_d , d )\n",
    "        \n",
    "    return r,it,Vector_d"
   ]
  },
  {
   "cell_type": "code",
   "execution_count": 35,
   "id": "56eb4d0b",
   "metadata": {},
   "outputs": [
    {
     "name": "stdout",
     "output_type": "stream",
     "text": [
      "[-0.09899834 -0.3260053 ]\n",
      "[-0.06996901  0.07324917]\n",
      "[-0.03559881  0.00465102]\n",
      "[-0.01071605  0.01860121]\n",
      "[-0.00817261 -0.00475954]\n",
      "[-0.00098126  0.00842107]\n",
      "[-0.00268303 -0.00489845]\n",
      "[0.00062404 0.00503654]\n",
      "[-0.00126521 -0.00377184]\n",
      "[0.00071288 0.00336175]\n",
      "[-0.00075978 -0.00272138]\n",
      "[0.00055923 0.00232576]\n",
      "[-0.00050641 -0.00192779]\n",
      "[0.00040567 0.00162668]\n",
      "[-0.00034981 -0.00135821]\n",
      "[0.000288   0.00114147]\n",
      "[-0.0002444  -0.00095533]\n",
      "[0.00020313 0.00080179]\n",
      "[-0.00017137 -0.00067161]\n",
      "[0.00014297 0.00056338]\n",
      "[-0.00012031 -0.00047207]\n",
      "[0.00010056 0.0003959 ]\n",
      "[-8.45085897e-05 -3.31794712e-04]\n",
      "[7.07033706e-05 2.78223906e-04]\n",
      "[-5.93719572e-05 -2.33195760e-04]\n",
      "[4.97044352e-05 1.95529089e-04]\n",
      "[-4.17170449e-05 -1.63894956e-04]\n",
      "[3.49390041e-05 1.37414847e-04]\n",
      "[-2.93141655e-05 -1.15187862e-04]\n",
      "[2.45584184e-05 9.65737895e-05]\n",
      "[-2.05997792e-05 -8.09553082e-05]\n",
      "[1.72612813e-05 6.78714455e-05]\n",
      "[-1.44764466e-05 -5.68960625e-05]\n",
      "[1.21320378e-05 4.76997862e-05]\n",
      "[-1.01735228e-05 -3.99869138e-05]\n",
      "[8.52680162e-06 3.35233035e-05]\n",
      "[-7.14969855e-06 -2.81030018e-05]\n",
      "[5.99284073e-06 2.35601426e-05]\n",
      "[-5.02468675e-06 -1.97509022e-05]\n",
      "[4.21187254e-06 1.65580629e-05]\n",
      "[-3.53129246e-06 -1.38809997e-05]\n",
      "[2.96015757e-06 1.16370124e-05]\n",
      "[-2.48176580e-06 -9.75560612e-06]\n",
      "[2.08042669e-06 8.17850110e-06]\n",
      "[-1.74417316e-06 -6.85626445e-06]\n",
      "[1.46213875e-06 5.74785908e-06]\n",
      "[-1.22579993e-06 -4.81859823e-06]\n",
      "[1.02759920e-06 4.03960249e-06]\n",
      "[-8.61490361e-07 -3.38652098e-06]\n",
      "[7.22201232e-07 2.83903820e-06]\n",
      "[-6.05454960e-07 -2.38005368e-06]\n",
      "[5.07565623e-07 1.99528024e-06]\n",
      "[-4.25513824e-07 -1.67270626e-06]\n",
      "[3.56718661e-07 1.40228604e-06]\n",
      "[-2.99051370e-07 -1.17558105e-06]\n",
      "[2.50702818e-07 9.85528867e-07]\n",
      "[-2.10173581e-07 -8.26200486e-07]\n",
      "[1.76194533e-07 6.92631294e-07]\n",
      "[-1.47710237e-07 -5.80655171e-07]\n",
      "[1.23829901e-07 4.86782419e-07]\n",
      "[-1.03810950e-07 -4.08085475e-07]\n",
      "[8.70279062e-08 3.42111498e-07]\n",
      "[-7.29584855e-08 -2.86803184e-07]\n",
      "[6.11633812e-08 2.40436536e-07]\n",
      "[-5.12753344e-08 -2.01565775e-07]\n",
      "[4.29857387e-08 1.68979205e-07]\n",
      "[-3.60363859e-08 -1.41660775e-07]\n",
      "[3.02104557e-08 1.18758872e-07]\n",
      "[-2.53264305e-08 -9.95594371e-08]\n",
      "[2.12319624e-08 8.34639380e-08]\n",
      "[-1.77994570e-08 -6.99705442e-08]\n",
      "[1.49218606e-08 5.86585980e-08]\n",
      "[-1.25094881e-08 -4.91754186e-08]\n",
      "[1.04871098e-08 4.12253629e-08]\n",
      "[-8.79168915e-09 -3.45605686e-08]\n",
      "[7.37035899e-09 2.89732554e-08]\n",
      "[-6.17881390e-09 -2.42892266e-08]\n",
      "[5.17990095e-09 2.03624531e-08]\n",
      "[-4.34248082e-09 -1.70705099e-08]\n",
      "[3.64044350e-09 1.43107668e-08]\n",
      "[-3.05190295e-09 -1.19971837e-08]\n",
      "[2.55850985e-09 1.00576314e-08]\n",
      "[-2.14488272e-09 -8.43164139e-09]\n",
      "[1.79812520e-09 7.06852088e-09]\n",
      "[-1.50742707e-09 -5.92577210e-09]\n",
      "[1.26372535e-09 4.96776842e-09]\n",
      "[-1.05942233e-09 -4.16464263e-09]\n",
      "[8.88148444e-10 3.49135632e-09]\n",
      "[-7.44563966e-10 -2.92691826e-09]\n",
      "[6.24192253e-10 2.45373122e-09]\n",
      "[-5.23280752e-10 -2.05704298e-09]\n",
      "[4.38683312e-10 1.72448655e-09]\n",
      "[-3.67762487e-10 -1.44569356e-09]\n",
      "[3.08307380e-10 1.21197186e-09]\n",
      "[-2.58464139e-10 -1.01603548e-09]\n",
      "[2.16678897e-10 8.51775983e-10]\n",
      "[-1.81649140e-10 -7.14071913e-10]\n",
      "[1.52282409e-10 5.98629812e-10]\n",
      "[-1.27663213e-10 -5.01850783e-10]\n",
      "[1.07024167e-10 4.20717683e-10]\n",
      "[-8.97220076e-11 -3.52701424e-10]\n",
      "[7.52169438e-11 2.95681701e-10]\n",
      "[-6.30568930e-11 -2.47879717e-10]\n",
      "[5.28626032e-11 2.07805551e-10]\n",
      "[-4.43163284e-11 -1.74210202e-10]\n",
      "[3.71518372e-11 1.46046064e-10]\n",
      "[-3.11455306e-11 -1.22435173e-10]\n",
      "[2.61104471e-11 1.02641451e-10]\n",
      "[-2.18893792e-11 -8.60478355e-11]\n"
     ]
    },
    {
     "data": {
      "text/plain": [
       "array([1.77245385, 1.77245385])"
      ]
     },
     "execution_count": 35,
     "metadata": {},
     "output_type": "execute_result"
    }
   ],
   "source": [
    "r,it,distancias = NewtonRaphson_G(G,[2,2])\n",
    "r"
   ]
  },
  {
   "cell_type": "code",
   "execution_count": 36,
   "id": "ae3d1890",
   "metadata": {},
   "outputs": [
    {
     "name": "stdout",
     "output_type": "stream",
     "text": [
      "[ 0.5        -0.21439589 -0.52186344]\n",
      "[-0.00238106  0.01288117 -0.00749826]\n",
      "[0.00024297 0.00205967 0.00047268]\n",
      "[ 2.87757327e-04 -1.13360672e-04  7.14204832e-05]\n",
      "[ 2.08603051e-07 -3.95328587e-05 -7.08199208e-06]\n",
      "[-5.19275201e-06  1.33730455e-06 -1.42170847e-06]\n",
      "[-9.77612319e-08  7.39309225e-07  1.02405968e-07]\n",
      "[ 9.21706162e-08 -1.08171067e-08  2.75706463e-08]\n",
      "[ 3.43583895e-09 -1.35697276e-08 -1.35376188e-09]\n",
      "[-1.60520347e-09 -4.97944741e-11 -5.23240118e-10]\n",
      "[-9.11919984e-11  2.44574361e-10  1.50240931e-11]\n",
      "[2.73883694e-11 5.32510147e-12 9.73710002e-12]\n"
     ]
    },
    {
     "data": {
      "text/plain": [
       "array([ 0.49814468, -0.1996059 , -0.52882598])"
      ]
     },
     "execution_count": 36,
     "metadata": {},
     "output_type": "execute_result"
    }
   ],
   "source": [
    "r,it,distancias = NewtonRaphson_G1(G1,[0,0,0])\n",
    "r"
   ]
  },
  {
   "cell_type": "code",
   "execution_count": null,
   "id": "8fd8d8bc",
   "metadata": {},
   "outputs": [],
   "source": []
  }
 ],
 "metadata": {
  "kernelspec": {
   "display_name": "Python 3 (ipykernel)",
   "language": "python",
   "name": "python3"
  },
  "language_info": {
   "codemirror_mode": {
    "name": "ipython",
    "version": 3
   },
   "file_extension": ".py",
   "mimetype": "text/x-python",
   "name": "python",
   "nbconvert_exporter": "python",
   "pygments_lexer": "ipython3",
   "version": "3.11.4"
  }
 },
 "nbformat": 4,
 "nbformat_minor": 5
}
