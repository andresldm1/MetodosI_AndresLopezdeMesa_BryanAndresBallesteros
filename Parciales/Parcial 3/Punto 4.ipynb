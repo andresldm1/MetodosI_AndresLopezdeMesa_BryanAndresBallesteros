{
 "cells": [
  {
   "cell_type": "code",
   "execution_count": 5,
   "id": "c3b84c49",
   "metadata": {},
   "outputs": [],
   "source": [
    "import numpy as np\n",
    "from tqdm import tqdm\n"
   ]
  },
  {
   "cell_type": "code",
   "execution_count": 6,
   "id": "a4597465",
   "metadata": {},
   "outputs": [],
   "source": [
    "def Multiplicar_Matrices(A,B):\n",
    "    shape_A=np.shape(A)\n",
    "    filas_A=shape_A[0]\n",
    "    columnas_A=shape_A[1]\n",
    "    shape_B=np.shape(B)\n",
    "    filas_B=shape_A[0]\n",
    "    columnas_B=shape_A[1]\n",
    "    C=np.empty((filas_A,columnas_B))\n",
    "    if(filas_A==columnas_B):\n",
    "        for i in tqdm(range(filas_A)):\n",
    "            for j in range(columnas_B):\n",
    "                C_ij = 0\n",
    "                for k in range(columnas_A):\n",
    "                    C_ij += A[i][k]*B[k][j]\n",
    "                C[i][j] = C_ij   \n",
    "        return C\n",
    "    else:\n",
    "        print(\"No es posible múltiplicar las matrices dadas, el número de filas de A debe coincidir con el número de columnas de B\")\n",
    "        return None"
   ]
  },
  {
   "cell_type": "code",
   "execution_count": 7,
   "id": "1ccb8a69",
   "metadata": {},
   "outputs": [
    {
     "name": "stderr",
     "output_type": "stream",
     "text": [
      "100%|███████████████████████████████████████████████████████████████████████████████████| 3/3 [00:00<00:00, 750.99it/s]"
     ]
    },
    {
     "name": "stdout",
     "output_type": "stream",
     "text": [
      "Si\n",
      "A:\n",
      "[[ 1  0  0]\n",
      " [ 5  1  0]\n",
      " [-2  3  1]]\n",
      "B:\n",
      "[[ 4 -2  1]\n",
      " [ 0  3  7]\n",
      " [ 0  0  2]]\n",
      " Obtenemos que\n",
      " AB:\n",
      "[[ 4. -2.  1.]\n",
      " [20. -7. 12.]\n",
      " [-8. 13. 21.]]\n"
     ]
    },
    {
     "name": "stderr",
     "output_type": "stream",
     "text": [
      "\n"
     ]
    }
   ],
   "source": [
    "A = np.array([[1, 0, 0], [5, 1, 0], [-2, 3, 1]])\n",
    "B = np.array([[4, -2, 1], [0, 3, 7], [0, 0, 2]])\n",
    "C=Multiplicar_Matrices(A,B)\n",
    "print(f\"Si\\nA:\\n{A}\\nB:\\n{B}\\n Obtenemos que\\n AB:\\n{C}\")"
   ]
  },
  {
   "cell_type": "code",
   "execution_count": null,
   "id": "0781bded",
   "metadata": {},
   "outputs": [],
   "source": []
  },
  {
   "cell_type": "code",
   "execution_count": null,
   "id": "b81d8d69",
   "metadata": {},
   "outputs": [],
   "source": []
  },
  {
   "cell_type": "code",
   "execution_count": null,
   "id": "b681233c",
   "metadata": {},
   "outputs": [],
   "source": []
  }
 ],
 "metadata": {
  "kernelspec": {
   "display_name": "Python 3 (ipykernel)",
   "language": "python",
   "name": "python3"
  },
  "language_info": {
   "codemirror_mode": {
    "name": "ipython",
    "version": 3
   },
   "file_extension": ".py",
   "mimetype": "text/x-python",
   "name": "python",
   "nbconvert_exporter": "python",
   "pygments_lexer": "ipython3",
   "version": "3.11.4"
  }
 },
 "nbformat": 4,
 "nbformat_minor": 5
}
