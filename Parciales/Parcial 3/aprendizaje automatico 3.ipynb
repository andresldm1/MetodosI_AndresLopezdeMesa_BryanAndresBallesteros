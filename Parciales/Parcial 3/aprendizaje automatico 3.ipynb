{
 "cells": [
  {
   "cell_type": "code",
   "execution_count": null,
   "metadata": {},
   "outputs": [],
   "source": []
  },
  {
   "cell_type": "code",
   "execution_count": null,
   "metadata": {},
   "outputs": [],
   "source": [
    "import numpy as np\n",
    "\n",
    "def f(x):\n",
    "    return np.absolute(x-2)\n",
    "\n",
    "Dx = lambda f,x,h=1e-5: (f(x+h) - f(x-h))/(2*h)\n",
    "_x = np.linspace(-10,10,50)\n",
    "F = f(_x)\n",
    " \n",
    "def Minimizer(f, N=300, gamma=0.01):\n",
    "    \n",
    "    r = np.zeros(N)\n",
    "   \n",
    "    r[0] = np.random.uniform(-5,5)\n",
    "    \n",
    "    for i in (range(1,N)):\n",
    "        r[i] = r[i-1] - gamma*Dx(f,r[i-1])\n",
    "        \n",
    "    return r\n",
    "\n",
    "print(Minimizer(f, 300, 0.01))"
   ]
  }
 ],
 "metadata": {
  "language_info": {
   "name": "python"
  }
 },
 "nbformat": 4,
 "nbformat_minor": 2
}
