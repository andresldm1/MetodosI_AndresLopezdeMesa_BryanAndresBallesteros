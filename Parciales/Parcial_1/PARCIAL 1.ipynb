{
 "cells": [
  {
   "cell_type": "code",
   "execution_count": 12,
   "id": "52460502",
   "metadata": {},
   "outputs": [],
   "source": [
    "import numpy as np\n",
    "import matplotlib.pyplot as plt\n",
    "import pandas as pd\n",
    "import sympy as sym\n",
    "from math import e\n",
    "\n",
    "import os\n",
    "import os.path as path\n",
    "import wget"
   ]
  },
  {
   "cell_type": "code",
   "execution_count": 33,
   "id": "b3b4c70b",
   "metadata": {},
   "outputs": [],
   "source": [
    "X = np.linspace(-5,5,50)\n",
    "Y = ((e**-x)-x)"
   ]
  },
  {
   "cell_type": "code",
   "execution_count": 34,
   "id": "cd2b2b78",
   "metadata": {},
   "outputs": [
    {
     "data": {
      "text/plain": [
       "[<matplotlib.lines.Line2D at 0x28fcc5a8c10>]"
      ]
     },
     "execution_count": 34,
     "metadata": {},
     "output_type": "execute_result"
    },
    {
     "data": {
      "image/png": "[encoded data removed]",
      "text/plain": [
       "<Figure size 640x480 with 1 Axes>"
      ]
     },
     "metadata": {},
     "output_type": "display_data"
    }
   ],
   "source": [
    "plt.scatter(X,Y,color='r')\n",
    "plt.plot(X,Y)"
   ]
  },
  {
   "cell_type": "code",
   "execution_count": 36,
   "id": "0f8d8188",
   "metadata": {},
   "outputs": [],
   "source": [
    "#Al escoger los puntos -4 y 4 encontramos el punto medio de estos y aquí tenemos el promedio 0 \n",
    "X_0 = -4.\n",
    "X_1 = 4.\n",
    "X_2 = 0."
   ]
  },
  {
   "cell_type": "code",
   "execution_count": 41,
   "id": "c3fc4d91",
   "metadata": {},
   "outputs": [],
   "source": []
  },
  {
   "cell_type": "code",
   "execution_count": 52,
   "id": "1c3228fa",
   "metadata": {},
   "outputs": [
    {
     "data": {
      "text/plain": [
       "58.59815003314423"
      ]
     },
     "execution_count": 52,
     "metadata": {},
     "output_type": "execute_result"
    }
   ],
   "source": [
    "Y_0 =  e**(4)+4\n",
    "Y_1 =  e**(-4)-4\n",
    "Y_2 = 1\n",
    "\n",
    "Y_0\n"
   ]
  },
  {
   "cell_type": "code",
   "execution_count": 53,
   "id": "032a40a1",
   "metadata": {},
   "outputs": [
    {
     "data": {
      "text/plain": [
       "-3.981684361111266"
      ]
     },
     "execution_count": 53,
     "metadata": {},
     "output_type": "execute_result"
    }
   ],
   "source": [
    "Y_1\n"
   ]
  },
  {
   "cell_type": "code",
   "execution_count": 66,
   "id": "83116ca7",
   "metadata": {},
   "outputs": [
    {
     "data": {
      "text/plain": [
       "array([58.59815003, -3.98168436,  1.        ])"
      ]
     },
     "execution_count": 66,
     "metadata": {},
     "output_type": "execute_result"
    }
   ],
   "source": [
    "X = np.array([-4.,4.,0])\n",
    "Y = np.array([Y_0,Y_1,Y_2])\n",
    "Y"
   ]
  },
  {
   "cell_type": "code",
   "execution_count": 97,
   "id": "32a0d731",
   "metadata": {},
   "outputs": [
    {
     "data": {
      "text/plain": [
       "-7.8224792992819365"
      ]
     },
     "execution_count": 97,
     "metadata": {},
     "output_type": "execute_result"
    }
   ],
   "source": [
    "f1= (Y[1]-Y[0])/(X[1]-X[0])   \n",
    "f1"
   ]
  },
  {
   "cell_type": "code",
   "execution_count": 98,
   "id": "1c9d8b7f",
   "metadata": {},
   "outputs": [
    {
     "data": {
      "text/plain": [
       "-1.2454210902778164"
      ]
     },
     "execution_count": 98,
     "metadata": {},
     "output_type": "execute_result"
    }
   ],
   "source": [
    "f2= (Y[2]-Y[1])/(X[2]-X[1])\n",
    "f2"
   ]
  },
  {
   "cell_type": "code",
   "execution_count": 99,
   "id": "60f417aa",
   "metadata": {},
   "outputs": [
    {
     "data": {
      "text/plain": [
       "-1.64426455225103"
      ]
     },
     "execution_count": 99,
     "metadata": {},
     "output_type": "execute_result"
    }
   ],
   "source": [
    "\n",
    "f3= ((Y[1]-Y[0])/(X[1]-X[0])-(Y[2]-Y[1])/(X[2]-X[1]))/(X[2]-X[0])\n",
    "\n",
    "f3"
   ]
  },
  {
   "cell_type": "code",
   "execution_count": 101,
   "id": "c525156a",
   "metadata": {},
   "outputs": [
    {
     "data": {
      "text/plain": [
       "-1.64426455225103"
      ]
     },
     "execution_count": 101,
     "metadata": {},
     "output_type": "execute_result"
    }
   ],
   "source": [
    "a = f3\n",
    "a\n"
   ]
  },
  {
   "cell_type": "code",
   "execution_count": 103,
   "id": "2ae140b4",
   "metadata": {},
   "outputs": [
    {
     "data": {
      "text/plain": [
       "-7.8224792992819365"
      ]
     },
     "execution_count": 103,
     "metadata": {},
     "output_type": "execute_result"
    }
   ],
   "source": [
    "b = f1-(X[0]+X[1])*a\n",
    "b"
   ]
  },
  {
   "cell_type": "code",
   "execution_count": 104,
   "id": "4b83298c",
   "metadata": {},
   "outputs": [
    {
     "data": {
      "text/plain": [
       "53.61646567203296"
      ]
     },
     "execution_count": 104,
     "metadata": {},
     "output_type": "execute_result"
    }
   ],
   "source": [
    "c = Y[0]-X[0]*f1+X[0]*X[1]*f3\n",
    "c"
   ]
  },
  {
   "cell_type": "code",
   "execution_count": 146,
   "id": "eae873ac",
   "metadata": {},
   "outputs": [
    {
     "data": {
      "text/plain": [
       "34.051111939804855"
      ]
     },
     "execution_count": 146,
     "metadata": {},
     "output_type": "execute_result"
    }
   ],
   "source": [
    "x3 = -2*c/b+(np.sqrt(b**2-4*a*c))\n",
    "x3"
   ]
  },
  {
   "cell_type": "code",
   "execution_count": null,
   "id": "96a193ea",
   "metadata": {},
   "outputs": [],
   "source": [
    "\n"
   ]
  },
  {
   "cell_type": "code",
   "execution_count": 143,
   "id": "bd3c1da7",
   "metadata": {},
   "outputs": [],
   "source": [
    "def GetNewtonMethod(f,df,x3,itmax=f3,precision=1e-10):\n",
    "    \n",
    "    error = 1.\n",
    "    it = 0\n",
    "    \n",
    "    while error > precision and it > itmax:\n",
    "        \n",
    "        try:\n",
    "            \n",
    "            xn1 = x3 - f(x3)/df(f,x3)\n",
    "            # Criterio de parada\n",
    "            error = np.abs(f(x3)/df(f,x3))\n",
    "            \n",
    "        except ZeroDivisionError:\n",
    "            print('Division por cero')\n",
    "            \n",
    "        x3 = xn1\n",
    "        it += 1\n",
    "        \n",
    "   # print('Raiz',xn,it)\n",
    "    \n",
    "    if it == itmax:\n",
    "        return False\n",
    "    else:\n",
    "        return x3"
   ]
  },
  {
   "cell_type": "code",
   "execution_count": 144,
   "id": "151b930f",
   "metadata": {},
   "outputs": [],
   "source": [
    "def Derivative(f,x,h=1e-6):\n",
    "    return (f(x+h)-f(x-h))/(2*h)"
   ]
  },
  {
   "cell_type": "code",
   "execution_count": 145,
   "id": "559b7be9",
   "metadata": {},
   "outputs": [
    {
     "ename": "TypeError",
     "evalue": "'Add' object is not callable",
     "output_type": "error",
     "traceback": [
      "\u001b[1;31m---------------------------------------------------------------------------\u001b[0m",
      "\u001b[1;31mTypeError\u001b[0m                                 Traceback (most recent call last)",
      "Cell \u001b[1;32mIn[145], line 2\u001b[0m\n\u001b[0;32m      1\u001b[0m f \u001b[38;5;241m=\u001b[39m ((e\u001b[38;5;241m*\u001b[39m\u001b[38;5;241m*\u001b[39m\u001b[38;5;241m-\u001b[39mx)\u001b[38;5;241m-\u001b[39mx) \n\u001b[1;32m----> 2\u001b[0m root \u001b[38;5;241m=\u001b[39m GetNewtonMethod(f,Derivative,\u001b[38;5;241m1.\u001b[39m)\n\u001b[0;32m      3\u001b[0m root\n",
      "Cell \u001b[1;32mIn[143], line 10\u001b[0m, in \u001b[0;36mGetNewtonMethod\u001b[1;34m(f, df, x3, itmax, precision)\u001b[0m\n\u001b[0;32m      6\u001b[0m \u001b[38;5;28;01mwhile\u001b[39;00m error \u001b[38;5;241m>\u001b[39m precision \u001b[38;5;129;01mand\u001b[39;00m it \u001b[38;5;241m>\u001b[39m itmax:\n\u001b[0;32m      8\u001b[0m     \u001b[38;5;28;01mtry\u001b[39;00m:\n\u001b[1;32m---> 10\u001b[0m         xn1 \u001b[38;5;241m=\u001b[39m x3 \u001b[38;5;241m-\u001b[39m f(x3)\u001b[38;5;241m/\u001b[39mdf(f,x3)\n\u001b[0;32m     11\u001b[0m         \u001b[38;5;66;03m# Criterio de parada\u001b[39;00m\n\u001b[0;32m     12\u001b[0m         error \u001b[38;5;241m=\u001b[39m np\u001b[38;5;241m.\u001b[39mabs(f(x3)\u001b[38;5;241m/\u001b[39mdf(f,x3))\n",
      "\u001b[1;31mTypeError\u001b[0m: 'Add' object is not callable"
     ]
    }
   ],
   "source": [
    "f = ((e**-x)-x) \n",
    "root = GetNewtonMethod(f,Derivative,1.)\n"
   ]
  },
  {
   "cell_type": "code",
   "execution_count": 114,
   "id": "0643401d",
   "metadata": {},
   "outputs": [],
   "source": [
    "def GetAllRoots(x, tolerancia=10):\n",
    "    \n",
    "    Roots = np.array([])\n",
    "    \n",
    "    for i in x:\n",
    "        \n",
    "        root = GetNewtonMethod(Function,Derivative,i)\n",
    "        \n",
    "        if root != False:\n",
    "            \n",
    "            croot = np.round(root, tolerancia)\n",
    "            \n",
    "            if croot not in Roots:\n",
    "                Roots = np.append(Roots,croot)\n",
    "                \n",
    "    Roots.sort()\n",
    "    \n",
    "    return Roots"
   ]
  },
  {
   "cell_type": "code",
   "execution_count": 115,
   "id": "84c931d2",
   "metadata": {},
   "outputs": [
    {
     "ename": "NameError",
     "evalue": "name 'Function' is not defined",
     "output_type": "error",
     "traceback": [
      "\u001b[1;31m---------------------------------------------------------------------------\u001b[0m",
      "\u001b[1;31mNameError\u001b[0m                                 Traceback (most recent call last)",
      "Cell \u001b[1;32mIn[115], line 1\u001b[0m\n\u001b[1;32m----> 1\u001b[0m root \u001b[38;5;241m=\u001b[39m GetNewtonMethod(Function,Derivative,\u001b[38;5;241m1.\u001b[39m)\n\u001b[0;32m      2\u001b[0m root\n",
      "\u001b[1;31mNameError\u001b[0m: name 'Function' is not defined"
     ]
    }
   ],
   "source": []
  },
  {
   "cell_type": "code",
   "execution_count": 63,
   "id": "46bd2106",
   "metadata": {},
   "outputs": [],
   "source": [
    "x = sym.Symbol('x',real=True)"
   ]
  },
  {
   "cell_type": "code",
   "execution_count": 64,
   "id": "22ff3f28",
   "metadata": {},
   "outputs": [
    {
     "ename": "ValueError",
     "evalue": "could not broadcast input array from shape (50,) into shape (3,)",
     "output_type": "error",
     "traceback": [
      "\u001b[1;31m---------------------------------------------------------------------------\u001b[0m",
      "\u001b[1;31mValueError\u001b[0m                                Traceback (most recent call last)",
      "Cell \u001b[1;32mIn[64], line 1\u001b[0m\n\u001b[1;32m----> 1\u001b[0m y \u001b[38;5;241m=\u001b[39m InterpolacionNewton(X,Y,x)\n\u001b[0;32m      2\u001b[0m y \u001b[38;5;241m=\u001b[39m sym\u001b[38;5;241m.\u001b[39msimplify(y)\n\u001b[0;32m      3\u001b[0m Y\n",
      "Cell \u001b[1;32mIn[61], line 8\u001b[0m, in \u001b[0;36mInterpolacionNewton\u001b[1;34m(X, Y, x)\u001b[0m\n\u001b[0;32m      5\u001b[0m Diff \u001b[38;5;241m=\u001b[39m np\u001b[38;5;241m.\u001b[39mzeros(( X\u001b[38;5;241m.\u001b[39mshape[\u001b[38;5;241m0\u001b[39m],Y\u001b[38;5;241m.\u001b[39mshape[\u001b[38;5;241m0\u001b[39m] ))\n\u001b[0;32m      6\u001b[0m h \u001b[38;5;241m=\u001b[39m X[\u001b[38;5;241m1\u001b[39m]\u001b[38;5;241m-\u001b[39mX[\u001b[38;5;241m0\u001b[39m]\n\u001b[1;32m----> 8\u001b[0m Diff[:,\u001b[38;5;241m0\u001b[39m] \u001b[38;5;241m=\u001b[39m Y\n\u001b[0;32m     10\u001b[0m poly \u001b[38;5;241m=\u001b[39m \u001b[38;5;241m1.\u001b[39m\n\u001b[0;32m     12\u001b[0m \u001b[38;5;28;01mfor\u001b[39;00m i \u001b[38;5;129;01min\u001b[39;00m \u001b[38;5;28mrange\u001b[39m(\u001b[38;5;241m1\u001b[39m,\u001b[38;5;28mlen\u001b[39m(X)):\n",
      "\u001b[1;31mValueError\u001b[0m: could not broadcast input array from shape (50,) into shape (3,)"
     ]
    }
   ],
   "source": [
    "y = InterpolacionNewton(X,Y,x)\n",
    "y = sym.simplify(y)\n",
    "Y"
   ]
  },
  {
   "cell_type": "code",
   "execution_count": null,
   "id": "e5ff9e09",
   "metadata": {},
   "outputs": [],
   "source": []
  }
 ],
 "metadata": {
  "kernelspec": {
   "display_name": "Python 3 (ipykernel)",
   "language": "python",
   "name": "python3"
  },
  "language_info": {
   "codemirror_mode": {
    "name": "ipython",
    "version": 3
   },
   "file_extension": ".py",
   "mimetype": "text/x-python",
   "name": "python",
   "nbconvert_exporter": "python",
   "pygments_lexer": "ipython3",
   "version": "3.11.4"
  }
 },
 "nbformat": 4,
 "nbformat_minor": 5
}
