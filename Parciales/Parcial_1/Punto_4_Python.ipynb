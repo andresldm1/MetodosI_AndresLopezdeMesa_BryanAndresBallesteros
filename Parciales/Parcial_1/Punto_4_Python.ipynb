{
 "cells": [
  {
   "cell_type": "code",
   "execution_count": 1,
   "id": "8b9201a2",
   "metadata": {},
   "outputs": [],
   "source": [
    "import numpy as np\n",
    "import matplotlib.pyplot as plt\n",
    "import sympy as sym"
   ]
  },
  {
   "cell_type": "code",
   "execution_count": 2,
   "id": "2e764ab4",
   "metadata": {},
   "outputs": [],
   "source": [
    "X = np.array([1.4, 3.5, 5.6])\n",
    "Y = np.array([0.4007954931819738, 0.594128102489774, 0.29802795523938164])"
   ]
  },
  {
   "cell_type": "code",
   "execution_count": 3,
   "id": "5d508efb",
   "metadata": {},
   "outputs": [],
   "source": [
    "def Lagrange(x,X,i):\n",
    "    \n",
    "    L = 1\n",
    "    \n",
    "    for j in range(X.shape[0]):\n",
    "        if i != j:\n",
    "            L *= (x - X[j])/(X[i]-X[j])\n",
    "            \n",
    "    return L"
   ]
  },
  {
   "cell_type": "code",
   "execution_count": 4,
   "id": "db5dea89",
   "metadata": {},
   "outputs": [],
   "source": [
    "def Interpolate(x,X,Y):\n",
    "    \n",
    "    Poly = 0\n",
    "    \n",
    "    for i in range(X.shape[0]):\n",
    "        Poly += Lagrange(x,X,i)*Y[i]\n",
    "        \n",
    "    return Poly\n"
   ]
  },
  {
   "cell_type": "code",
   "execution_count": 5,
   "id": "8f0cfe28",
   "metadata": {},
   "outputs": [],
   "source": [
    "x = np.linspace(0.,6.,100)\n",
    "y = Interpolate(x,X,Y)"
   ]
  },
  {
   "cell_type": "code",
   "execution_count": 6,
   "id": "8b426a3d",
   "metadata": {},
   "outputs": [
    {
     "name": "stdout",
     "output_type": "stream",
     "text": [
      "x*(0.363970234266202 - 0.0554912422401579*x)\n"
     ]
    }
   ],
   "source": [
    "x = sym.Symbol('x',real=True)\n",
    "y = Interpolate(x,X,Y)\n",
    "y = sym.simplify(y)\n",
    "print(y)"
   ]
  },
  {
   "cell_type": "code",
   "execution_count": null,
   "id": "40c0a7a6",
   "metadata": {},
   "outputs": [],
   "source": []
  }
 ],
 "metadata": {
  "kernelspec": {
   "display_name": "Python 3 (ipykernel)",
   "language": "python",
   "name": "python3"
  },
  "language_info": {
   "codemirror_mode": {
    "name": "ipython",
    "version": 3
   },
   "file_extension": ".py",
   "mimetype": "text/x-python",
   "name": "python",
   "nbconvert_exporter": "python",
   "pygments_lexer": "ipython3",
   "version": "3.11.4"
  }
 },
 "nbformat": 4,
 "nbformat_minor": 5
}
